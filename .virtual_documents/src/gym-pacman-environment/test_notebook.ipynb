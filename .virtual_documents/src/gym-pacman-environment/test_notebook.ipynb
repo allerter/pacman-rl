import random
from time import sleep
import gym
from gym import logger
import numpy as np
from utils import get_level
from PacmanAgent import PacmanAgent

# TODO set the desired number of games to play
episode_count = 1000

# Set to False to disable that information about the current state of the game are printed out on the console
# Be aware that the gameworld is printed transposed to the console, to avoid mapping the coordinates and actions
printState = True

level = get_level("RL01_straight_tunnel")

# You can set this to False to change the agent's observation to Box from OpenAIGym - see also PacmanEnv.py
# Otherwise a 2D array of tileTypes will be used
usingSimpleObservations = False

# Defines all possible types of tiles in the game and how they are printed out on the console
# Should not be changed unless you want to change the rules of the game
tileTypes = {
    "empty": " ",
    "wall": "#",
    "dot": "*",
    "pacman": "P",
    "ghost_rnd": "R",
    "ghost_hunter": "H",
}

# Will be automatically set to True by the PacmanAgent if it is used and should not be set manually
usingPythonAgent = False



env = PacmanAgent()



env.observation_space


# Get the observation space
obs_space = env.observation_space

if isinstance(obs_space, gym.spaces.Box):
    # Number of bins per dimension
    n_bins = 10

    # Calculate the range for each dimension
    state_ranges = obs_space.high - obs_space.low

    # Check if bounds are finite
    if np.all(np.isfinite(state_ranges)):
        # Approximate total states by discretizing each dimension
        total_states = n_bins ** obs_space.shape[0]


total_states


# Execute all episodes by resetting the game and play it until it is over
# Hyperparameters
alpha = 0.1
gamma = 0.6
epsilon = 0.1

q_table = np.zeros([total_states, 4])

# For plotting metrics
all_epochs = []
all_penalties = []

for i in range(1, 100001):
    state = env.reset()

    epochs, penalties, reward, = 0, 0, 0
    done = False
    
    while not done:
        if random.uniform(0, 1) < epsilon:
            action = env.action_space.sample() # Explore action space
        else:
            action = np.argmax(q_table[state]) # Exploit learned values

        next_state, reward, done, info = env.step(action) 
        
        old_value = q_table[state, action]
        next_max = np.max(q_table[next_state])
        
        new_value = (1 - alpha) * old_value + alpha * (reward + gamma * next_max)
        q_table[state, action] = new_value

        if reward == -10:
            penalties += 1

        state = next_state
        epochs += 1
        
    if i % 100 == 0:
        print(f"Episode: {i}")



