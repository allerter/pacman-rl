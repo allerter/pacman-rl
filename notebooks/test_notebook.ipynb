{
 "cells": [
  {
   "cell_type": "code",
   "execution_count": 1,
   "id": "8e469884-256f-4aaf-9f14-2dd64a2ac87d",
   "metadata": {},
   "outputs": [],
   "source": [
    "import random\n",
    "from time import sleep\n",
    "import gym\n",
    "from gym import logger\n",
    "import numpy as np\n",
    "from utils import get_level\n",
    "from PacmanAgent import PacmanAgent\n",
    "from collections import defaultdict\n",
    "\n"
   ]
  },
  {
   "cell_type": "code",
   "execution_count": 2,
   "id": "123aed9a-bfdb-4384-ae74-30e625d495c6",
   "metadata": {},
   "outputs": [
    {
     "name": "stderr",
     "output_type": "stream",
     "text": [
      "/home/hazhir-wsl/anaconda3/envs/PacmanOpenAIGym_FHDortmund/lib/python3.10/site-packages/gym/utils/passive_env_checker.py:31: UserWarning: \u001b[33mWARN: A Box observation space has an unconventional shape (neither an image, nor a 1D vector). We recommend flattening the observation to have only a 1D vector or use a custom policy to properly process the data. Actual observation shape: (7, 7)\u001b[0m\n",
      "  logger.warn(\n"
     ]
    }
   ],
   "source": [
    "env = PacmanAgent()\n"
   ]
  },
  {
   "cell_type": "code",
   "execution_count": 3,
   "id": "6ac03314-9d16-4d2f-83cc-9a752a1b401f",
   "metadata": {},
   "outputs": [
    {
     "data": {
      "text/plain": [
       "Box(0, 5, (7, 7), int32)"
      ]
     },
     "execution_count": 3,
     "metadata": {},
     "output_type": "execute_result"
    }
   ],
   "source": []
  },
  {
   "cell_type": "code",
   "execution_count": 3,
   "id": "80f83387-edd9-4153-9361-89ac18482b5b",
   "metadata": {},
   "outputs": [
    {
     "name": "stdout",
     "output_type": "stream",
     "text": [
      "49\n",
      "4\n"
     ]
    },
    {
     "name": "stderr",
     "output_type": "stream",
     "text": [
      "/home/hazhir-wsl/anaconda3/envs/PacmanOpenAIGym_FHDortmund/lib/python3.10/site-packages/gym/utils/passive_env_checker.py:174: UserWarning: \u001b[33mWARN: Future gym versions will require that `Env.reset` can be passed a `seed` instead of using `Env.seed` for resetting the environment random number generator.\u001b[0m\n",
      "  logger.warn(\n",
      "/home/hazhir-wsl/anaconda3/envs/PacmanOpenAIGym_FHDortmund/lib/python3.10/site-packages/gym/utils/passive_env_checker.py:187: UserWarning: \u001b[33mWARN: Future gym versions will require that `Env.reset` can be passed `options` to allow the environment initialisation to be passed additional information.\u001b[0m\n",
      "  logger.warn(\n",
      "/home/hazhir-wsl/anaconda3/envs/PacmanOpenAIGym_FHDortmund/lib/python3.10/site-packages/gym/utils/passive_env_checker.py:195: UserWarning: \u001b[33mWARN: The result returned by `env.reset()` was not a tuple of the form `(obs, info)`, where `obs` is a observation and `info` is a dictionary containing additional information. Actual type: `<class 'numpy.ndarray'>`\u001b[0m\n",
      "  logger.warn(\n"
     ]
    }
   ],
   "source": [
    "n_states = np.prod(env.reset().shape)\n",
    "n_actions = env.action_space.n\n",
    "\n",
    "print(n_states)\n",
    "print(n_actions)"
   ]
  },
  {
   "cell_type": "code",
   "execution_count": 29,
   "id": "741f3e3b-814b-4223-919e-7e948439da17",
   "metadata": {},
   "outputs": [],
   "source": [
    "q_table = np.zeros((n_states, n_actions))"
   ]
  },
  {
   "cell_type": "code",
   "execution_count": 52,
   "id": "f11c808a-52a4-47d4-a47e-08827b81c798",
   "metadata": {},
   "outputs": [
    {
     "data": {
      "text/plain": [
       "2.0"
      ]
     },
     "execution_count": 52,
     "metadata": {},
     "output_type": "execute_result"
    }
   ],
   "source": [
    "np.max(q_table[env.reset()])"
   ]
  },
  {
   "cell_type": "code",
   "execution_count": 5,
   "id": "8164ed04-dbe4-495b-b478-d509350feb74",
   "metadata": {},
   "outputs": [],
   "source": [
    "# Hyperparameters\n",
    "alpha = 0.9          # Learning rate\n",
    "gamma = 0.95         # Discount factor\n",
    "epsilon = 1.0        # Exploration rate (epsilon-greedy)\n",
    "epsilon_decay = 0.9995\n",
    "epsilon_min = 0.01\n",
    "num_episodes = 1000  # Total training episodes\n",
    "max_steps = 100       # Max steps per episode"
   ]
  },
  {
   "cell_type": "code",
   "execution_count": 6,
   "id": "61e55644-d5d1-4e3c-be1e-70b6c1f07582",
   "metadata": {},
   "outputs": [
    {
     "name": "stderr",
     "output_type": "stream",
     "text": [
      "/home/hazhir-wsl/anaconda3/envs/PacmanOpenAIGym_FHDortmund/lib/python3.10/site-packages/gym/utils/passive_env_checker.py:219: DeprecationWarning: \u001b[33mWARN: Core environment is written in old step API which returns one bool instead of two. It is recommended to rewrite the environment with new step API. \u001b[0m\n",
      "  logger.deprecation(\n",
      "/home/hazhir-wsl/anaconda3/envs/PacmanOpenAIGym_FHDortmund/lib/python3.10/site-packages/gym/utils/passive_env_checker.py:225: DeprecationWarning: `np.bool8` is a deprecated alias for `np.bool_`.  (Deprecated NumPy 1.24)\n",
      "  if not isinstance(done, (bool, np.bool8)):\n"
     ]
    }
   ],
   "source": [
    "q_table = np.zeros((n_states, n_actions))\n",
    "\n",
    "def flatten_position(env, state):\n",
    "    # Find the agent's position in the grid\n",
    "    for e in env.entities:\n",
    "            if e.type == \"pacman\":\n",
    "                position = np.array([e.x, e.y])\n",
    "                break\n",
    "    if position.size == 0:\n",
    "        raise ValueError(\"Agent position not found in the grid!\")\n",
    "    row, col = position  # Extract the first (and only) match\n",
    "    n_cols = state.shape[1]\n",
    "    return row * n_cols + col  # Convert (row, col) to a single index\n",
    "\n",
    "def extract_indices(flattened_index, n_rows, n_cols, n_actions):\n",
    "    i = flattened_index // (n_cols * n_actions)  # Row index\n",
    "    remainder = flattened_index % (n_cols * n_actions)\n",
    "    j = remainder // n_actions  # Column index\n",
    "    k = remainder % n_actions  # Action index\n",
    "    return k\n",
    "\n",
    "def choose_action(state):\n",
    "    if random.uniform(0, 1) < epsilon:\n",
    "        # Explore: choose a random action\n",
    "        return env.action_space.sample()\n",
    "    else:\n",
    "        action = np.argmax(q_table[state, :])\n",
    "        return extract_indices(action, 7, 7, 4)\n",
    "\n",
    "\n",
    "def update_q_table(state, action, reward, next_state):\n",
    "    best_next_action = np.argmax(q_table[next_state, :])\n",
    "    try:\n",
    "        td_target = reward + gamma * q_table[next_state, best_next_action]\n",
    "    except Exception as e:\n",
    "        print(q_table)\n",
    "        print(next_state)\n",
    "        raise e\n",
    "    td_error = td_target - q_table[state, action]\n",
    "    q_table[state, action] += alpha * td_error\n",
    "\n",
    "for episode in range(num_episodes):\n",
    "    state = env.reset()\n",
    "    done = False\n",
    "    \n",
    "    for step in range(max_steps):\n",
    "        action = choose_action(state)\n",
    "        next_state, reward, done, info = env.step(action)\n",
    "        next_state = flatten_position(env, next_state)\n",
    "        update_q_table(state, action, reward, next_state)\n",
    "        state = next_state\n",
    "        \n",
    "        if done:\n",
    "            break\n",
    "    \n",
    "    # Decay epsilon\n",
    "    epsilon = max(epsilon_min, epsilon * epsilon_decay)"
   ]
  },
  {
   "cell_type": "code",
   "execution_count": 9,
   "id": "6c54df8e-d719-4a0c-8355-cd43535ea345",
   "metadata": {},
   "outputs": [
    {
     "name": "stdout",
     "output_type": "stream",
     "text": [
      "Episode: 1, Total Reward: 0.5\n",
      "Episode: 2, Total Reward: 0.5\n",
      "Episode: 3, Total Reward: 0.5\n",
      "Episode: 4, Total Reward: 0.5\n",
      "Episode: 5, Total Reward: 0.5\n"
     ]
    }
   ],
   "source": [
    "\n",
    "# Play the game using the learned policy\n",
    "env = PacmanAgent()\n",
    "max_steps = 100\n",
    "for episode in range(5):\n",
    "    state = env.reset()\n",
    "    done = False\n",
    "    total_rewards = 0\n",
    "    \n",
    "    for step in range(max_steps):\n",
    "        \n",
    "        action = np.argmax(q_table[state, :])\n",
    "        action = extract_indices(action, 7, 7, 4)\n",
    "        next_state, reward, done, info = env.step(action)\n",
    "        env.render(action)\n",
    "        total_rewards += reward\n",
    "        state = next_state\n",
    "        sleep(0.3)\n",
    "        if done:\n",
    "            print(f\"Episode: {episode + 1}, Total Reward: {total_rewards}\")\n",
    "            break\n",
    "\n",
    "env.close()"
   ]
  },
  {
   "cell_type": "code",
   "execution_count": null,
   "id": "75b8302a-ae54-437f-b9ea-fce8e991861b",
   "metadata": {},
   "outputs": [],
   "source": []
  }
 ],
 "metadata": {
  "kernelspec": {
   "display_name": "pacman_kernel",
   "language": "python",
   "name": "pacman_kernel"
  },
  "language_info": {
   "codemirror_mode": {
    "name": "ipython",
    "version": 3
   },
   "file_extension": ".py",
   "mimetype": "text/x-python",
   "name": "python",
   "nbconvert_exporter": "python",
   "pygments_lexer": "ipython3",
   "version": "3.10.16"
  }
 },
 "nbformat": 4,
 "nbformat_minor": 5
}
